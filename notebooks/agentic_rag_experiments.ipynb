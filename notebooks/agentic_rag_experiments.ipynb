{
 "cells": [
  {
   "cell_type": "markdown",
   "metadata": {},
   "source": [
    "# Agentic RAG - Notebook d'Exp�rimentation\n",
    "\n",
    "Ce notebook permet de tester et exp�rimenter avec le syst�me Agentic RAG."
   ]
  },
  {
   "cell_type": "code",
   "execution_count": null,
   "metadata": {},
   "outputs": [],
   "source": [
    "# Imports et configuration\n",
    "import sys\n",
    "from pathlib import Path\n",
    "\n",
    "# Ajouter src au path\n",
    "sys.path.append(str(Path('..') / 'src'))\n",
    "\n",
    "import asyncio\n",
    "from agents.agentic_rag import AgenticRAGAgent\n",
    "from config.settings import settings\n",
    "\n",
    "print(\" Configuration charg�e\")\n",
    "print(f\"Debug mode: {settings.debug}\")\n",
    "print(f\"LLM Model: {settings.llm_model}\")"
   ]
  },
  {
   "cell_type": "code",
   "execution_count": null,
   "metadata": {},
   "outputs": [],
   "source": [
    "# Initialiser l'agent\n",
    "agent = AgenticRAGAgent()\n",
    "print(\"Agent initialis�\")"
   ]
  },
  {
   "cell_type": "code",
   "execution_count": null,
   "metadata": {},
   "outputs": [],
   "source": [
    "# Test de requ�te simple\n",
    "async def test_query(query_text):\n",
    "    result = await agent.process_query(query_text)\n",
    "    \n",
    "    print(f\"Requ�te: {query_text}\")\n",
    "    print(f\"R�ponse: {result['response']}\")\n",
    "    print(f\"Confiance: {result['confidence']:.2f}\")\n",
    "    print(f\"Sources: {result['sources']}\")\n",
    "    print(f\"Docs: {result['retrieved_docs_count']}, DB: {result['db_results_count']}\")\n",
    "    \n",
    "    return result\n",
    "\n",
    "# Tester\n",
    "result = await test_query(\"Quels sont les projets actifs?\")\n"
   ]
  },
  {
   "cell_type": "code",
   "execution_count": null,
   "metadata": {},
   "outputs": [],
   "source": [
    "# Tests multiples\n",
    "test_queries = [\n",
    "    \"Bonjour\",\n",
    "    \"Quels sont les projets actifs?\",\n",
    "    \"R�sumez les documents r�cents\",\n",
    "    \"Qui sont les administrateurs?\"\n",
    "]\n",
    "\n",
    "results = []\n",
    "for query in test_queries:\n",
    "    print(f\"\\n{'='*50}\")\n",
    "    result = await test_query(query)\n",
    "    results.append(result)"
   ]
  },
  {
   "cell_type": "code",
   "execution_count": null,
   "metadata": {},
   "outputs": [],
   "source": [
    "# Analyse des performances\n",
    "import pandas as pd\n",
    "import matplotlib.pyplot as plt\n",
    "\n",
    "# Cr�er un DataFrame avec les r�sultats\n",
    "df = pd.DataFrame([\n",
    "    {\n",
    "        'query': query,\n",
    "        'confidence': result['confidence'],\n",
    "        'docs_count': result['retrieved_docs_count'],\n",
    "        'db_count': result['db_results_count']\n",
    "    }\n",
    "    for query, result in zip(test_queries, results)\n",
    "])\n",
    "\n",
    "# Graphique des scores de confiance\n",
    "plt.figure(figsize=(10, 6))\n",
    "plt.bar(range(len(df)), df['confidence'])\n",
    "plt.xlabel('Requ�tes')\n",
    "plt.ylabel('Score de Confiance')\n",
    "plt.title('Scores de Confiance par Requ�te')\n",
    "plt.xticks(range(len(df)), [q[:20] + '...' if len(q) > 20 else q for q in df['query']], rotation=45)\n",
    "plt.tight_layout()\n",
    "plt.show()\n",
    "\n",
    "print(df)"
   ]
  }
 ],
 "metadata": {
  "kernelspec": {
   "display_name": "Python 3",
   "language": "python",
   "name": "python3"
  },
  "language_info": {
   "codemirror_mode": {
    "name": "ipython",
    "version": 3
   },
   "file_extension": ".py",
   "name": "python",
   "nbconvert_exporter": "python",
   "pygments_lexer": "ipython3",
   "version": "3.9.0"
  }
 },
 "nbformat": 4,
 "nbformat_minor": 4
}